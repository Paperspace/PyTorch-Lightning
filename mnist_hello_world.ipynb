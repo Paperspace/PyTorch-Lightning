{
  "cells": [
    {
      "cell_type": "markdown",
      "id": "c06cf6e8",
      "metadata": {
        "papermill": {
          "duration": 0.004842,
          "end_time": "2022-08-15T07:38:11.808033",
          "exception": false,
          "start_time": "2022-08-15T07:38:11.803191",
          "status": "completed"
        },
        "tags": [],
        "id": "c06cf6e8"
      },
      "source": [
        "\n",
        "# Introduction to Pytorch Lightning\n",
        "\n",
        "* **Author:** PL team\n",
        "* **License:** CC BY-SA\n",
        "* **Generated:** 2022-08-15T09:28:49.859904\n",
        "\n",
        "In this notebook, we'll go over the basics of lightning by preparing models to train on the [MNIST Handwritten Digits dataset](https://en.wikipedia.org/wiki/MNIST_database).\n",
        "\n",
        "---\n",
        "Open in [![Open In Colab](data:image/png;base64,iVBORw0KGgoAAAANSUhEUgAAAHUAAAAUCAYAAACzrHJDAAAIuUlEQVRoQ+1ZaVRURxb+qhdolmbTUVSURpZgmLhHbQVFZIlGQBEXcMvJhKiTEzfigjQg7oNEJ9GMGidnjnNMBs2czIzajksEFRE1xklCTKJiQLRFsUGkoUWw+82pamn79etGYoKek1B/4NW99/tu3e/dquJBAGD27NkHALxKf39WY39gyrOi+i3xqGtUoePJrFmznrmgtModorbTu8YRNZk5cybXTvCtwh7o6NR2KzuZMWNGh6jtVt7nA0ymT5/eJlF9POrh7PAQl6s8bGYa3PUum//htmebVtLRqW0q01M5keTk5FZFzU0oRle3+zxwg5Hgtb+PZiL/ZVohxCI+hL5JgjmfjPxZ26+33BG3dA+ealHPM4gQAo5rU59gsI8bRvl54t3Ca62mvHyUAhtOlLd5WSQpKcluBjumnoCLs1EARkVd9E8l3p9y2i7RbQ1B6pFwu/YDgW8KbHJHMTQrwnjz2oZm9M4pavOCfo5jWrgCaaMVcMs6/pNhDr0+AMN93XlxV7R6DNpyzi7W/OE+yIrsjU6rTrbKV5cd/pNyItOmTbMp6sbBB+EqaYJY4cWE3VUciNt1TpgfcRFv71Fi54xT5kSoyLvOBEJMOMxWXkFlBeBSX4u6Zkcs+3KszYRtiapbNRqF31UgetVuc8z9vBXIv1qD+F1f83B6uDlCUyfsZGepGPpmg01OB7EITQbhS9ribKy+DmP1DUiClLz4bnIHVOqa7BY+Z1wg5g3zgUvyehiNpnJKxSLc/ts76LKm0BzX3c0RNy1yXjDcB5lWoro4iNHQxM+f1kWeWQARAWQS++trISJTp061Kep25X/MycwtjuctSC5rxo7ppi7VNUox5+PhPHtrsS2O1qJ6yx1QujQUzm9sh6hbkBlvvGcN8hYnwjUjH6kjfZEd5c/jitz5Jc5U3ENnFynKl4eB7nyEgP2UZ+Yz3/rVEbyYr27qELrtC4FIC0J7sc7xWnmccdHfRRTs0VB+cA4lt+oFcRR/wUeH8FG5w2Mbx8FQ8TXEvv1xYf4wBP3O2WyL3/UVjpXWgIqaFeUPr+wTmDvUB7njH6/bOv+HRg4SqioAg5GDe1aB3ZeMTJkyRSBqkLsWqSEm0fZVBEN94zEZnYvrdx1JL5cxe+a+AbhSJecRRHW/ikTFRTa38dtQlNZ5CRKwFvUtZU/kvBoEF9Uxni/XqIM+dwKbTw3rhcxIf7gmr2M+H6SMwx8iBzJbw5oxeG3Lv5FX9B3AGaHPS8e8z77H7v9VMpvPG5ug1enh7eGK8h0LBTwUb+GInqzInlRUK65DmTPQu4c3+uQKjwKK77zwUxBX4Tq7yR1RuiwUsqlrABCM6esHdXoy47fk4+prYKy8ZF574x4V5BnHQBuf4g9Z9ld8U36L2aktZNNplNfw7zotwWTy5MkCUft4aLEopJj5/OPHl1BQqeAVOnHgNSQOqmBzq9V9cfEm/yx5ubMGKS9cYPZ3vx2OS/c6PVHUuUO7Y1Pci3BO/1zgq18byebfGemLtNF+6JRtOvMk926ibussZqM+1mNz4TWkH7rCbM5phwGRGDAaoF8fY5OHFnlldAA8sgoEXKnDukA1NgSeNjqkJT9brbN4pC9WRweYXyLugR73c+MYvyWfu0yC6+mjzN1Isfw3FKJS98CU/zI1IHFkFPR52cHL2FJk0sB6kMTERIGo9GzcPkLNfA0cwdwi/hfEYO86ZMd9w+y1egfM2T2Eh/vesMNwljSzuZRT420SW3eqy8N6aHMmwmnFUZ7/PGVPbIoNZvNU1BURdHs0bT2+HjL8sDSM2e6vi4Lj5NW8WOLVA6RTT2azxLV+bglaFNqLieqemS/gWkw7NyoAHo+2dEsiivengjKsPFoqWOvbSh/kxPaxyW/JRzH2Fl3EzD9/xjAefJqB3usKUFn/0Gb+S/d/jy3FN2yLOmnSJJtn6oehByEiHPSeXnDxFGPRnoFoaBJjcdQlbDwcjL1zTNuQpoxD7R0OG0uUTMi0fkVwdzBdYIwcwZunxrVJVLplNm54BZp7jfDfYLoNyqQi1K6KxIdHzmN+QQ2WjFIwUT2zTGdlRXo4NFXVUO4sgX5dFC7f0aP/ZlNeUjFBuL8Xjl6uRuP6aMjSjpjzsH62FDU7JhBuGccEXIvDfJFFBc/gHw80dklfCVYnRaDfpiJcutPA4F7qJsfJeUPQI+1fqMlNhFx1FM0GDqkjFVg7NojlQ0Vt4aM5ReSqcbpaCg8nCW5lRsBvbT4T1TLfFptsfh7gItzuKTdJSEiwKSrt1vcmnEXXrsLbYnWDA1bu+z2WKy9Arq+1KRqdfKsoBo0GcdtEpS/B1bO4v0cFiUhkjskvKcMrWwtAPHuwQq8Z+4LZ1vTQANfXt4J0DwZX9gWa9qh4XDM/voC9JXfwYEMMHJcfNtusn82ihvliVUwg5KrPGVf6GH94ZJpEZBen6EC4qYTHA1dXhW0JIex8txzv//c8lhzXIi/BFxOH9jGbQhZsRalTIBZZ8KkGyZAxeRQvXkFF1TWz/Hm46jNYUnjPbt3JxIkT7f6dSj8qfJJyVvBxgaIlblOyjtysNHWN9fjjqWi7glJfW3/S0Hlj2XnA8PhKT9w6g3Qx3XiXhvuxQsuT1proxBKI/AaZqY1Xz5muvY8G8XkRRCaHsfQsRAFDH/tZPbcYuHotOG0FRIqB4HR3wNVoIPLtz8ycTguu+jpEigE218vd1YCr5m+HpHMvEI9u4LTXwNWaLjl0iPwGAmIpeHx1VeCqTJdPs1/vweweQPO3HC24NhOhnTphwoQnfv6QSY2ICbkNmdSA4h87oaLaiYfn5diIEd4att2erOwJXbPUHp953p6orQVSUVWRAXBT8c/dJ5L9xhzaJGp71GR/wFP8P5V2z10NSC9T93QM2xUg8fHxT+zU9ijeU4naHon8CjFJXFzc8/kn+dN06q9QgF98SYSo2Xen2NjYZy5sR6f+4nLSK5Iam2PH/x87a1YN/t5sBgAAAABJRU5ErkJggg==){height=\"20px\" width=\"117px\"}](https://colab.research.google.com/github/PytorchLightning/lightning-tutorials/blob/publication/.notebooks/lightning_examples/mnist-hello-world.ipynb)\n",
        "\n",
        "Give us a ⭐ [on Github](https://www.github.com/PytorchLightning/pytorch-lightning/)\n",
        "| Check out [the documentation](https://pytorch-lightning.readthedocs.io/en/stable/)\n",
        "| Join us [on Slack](https://www.pytorchlightning.ai/community)"
      ]
    },
    {
      "cell_type": "markdown",
      "id": "50e2fd17",
      "metadata": {
        "papermill": {
          "duration": 0.003993,
          "end_time": "2022-08-15T07:38:11.814891",
          "exception": false,
          "start_time": "2022-08-15T07:38:11.810898",
          "status": "completed"
        },
        "tags": [],
        "id": "50e2fd17"
      },
      "source": [
        "## Setup\n",
        "This notebook requires some packages besides pytorch-lightning."
      ]
    },
    {
      "cell_type": "code",
      "execution_count": null,
      "id": "25d6a362",
      "metadata": {
        "execution": {
          "iopub.execute_input": "2022-08-15T07:38:11.822333Z",
          "iopub.status.busy": "2022-08-15T07:38:11.821497Z",
          "iopub.status.idle": "2022-08-15T07:38:16.125962Z",
          "shell.execute_reply": "2022-08-15T07:38:16.124965Z"
        },
        "id": "25d6a362",
        "lines_to_next_cell": 0,
        "papermill": {
          "duration": 4.310742,
          "end_time": "2022-08-15T07:38:16.128255",
          "exception": false,
          "start_time": "2022-08-15T07:38:11.817513",
          "status": "completed"
        },
        "tags": []
      },
      "outputs": [],
      "source": [
        "! pip install --quiet \"pandas\" \"ipython[notebook]\" \"torchvision\" \"setuptools==59.5.0\" \"torch>=1.8\" \"torchmetrics>=0.7\" \"seaborn\" \"pytorch-lightning>=1.4\""
      ]
    },
    {
      "cell_type": "code",
      "execution_count": null,
      "id": "2d0b3468",
      "metadata": {
        "execution": {
          "iopub.execute_input": "2022-08-15T07:38:16.135797Z",
          "iopub.status.busy": "2022-08-15T07:38:16.135237Z",
          "iopub.status.idle": "2022-08-15T07:38:21.149397Z",
          "shell.execute_reply": "2022-08-15T07:38:21.148489Z"
        },
        "papermill": {
          "duration": 5.020155,
          "end_time": "2022-08-15T07:38:21.151455",
          "exception": false,
          "start_time": "2022-08-15T07:38:16.131300",
          "status": "completed"
        },
        "tags": [],
        "id": "2d0b3468",
        "outputId": "2d33cd92-f4db-41d9-b59f-4f8ef2309673"
      },
      "outputs": [
        {
          "name": "stderr",
          "output_type": "stream",
          "text": [
            "/tmp/ipykernel_4119/1920170836.py:6: DeprecationWarning: Importing display from IPython.core.display is deprecated since IPython 7.14, please import from IPython display\n",
            "  from IPython.core.display import display\n"
          ]
        },
        {
          "name": "stderr",
          "output_type": "stream",
          "text": [
            "WARNING:root:Bagua cannot detect bundled NCCL library, Bagua will try to use system NCCL instead. If you encounter any error, please run `import bagua_core; bagua_core.install_deps()` or the `bagua_install_deps.py` script to install bundled libraries.\n"
          ]
        }
      ],
      "source": [
        "import os\n",
        "\n",
        "import pandas as pd\n",
        "import seaborn as sn\n",
        "import torch\n",
        "from IPython.core.display import display\n",
        "from pytorch_lightning import LightningModule, Trainer\n",
        "from pytorch_lightning.callbacks.progress import TQDMProgressBar\n",
        "from pytorch_lightning.loggers import CSVLogger\n",
        "from torch import nn\n",
        "from torch.nn import functional as F\n",
        "from torch.utils.data import DataLoader, random_split\n",
        "from torchmetrics import Accuracy\n",
        "from torchvision import transforms\n",
        "from torchvision.datasets import MNIST\n",
        "\n",
        "PATH_DATASETS = os.environ.get(\"PATH_DATASETS\", \".\")\n",
        "BATCH_SIZE = 256 if torch.cuda.is_available() else 64"
      ]
    },
    {
      "cell_type": "markdown",
      "id": "f3d202be",
      "metadata": {
        "lines_to_next_cell": 2,
        "papermill": {
          "duration": 0.002704,
          "end_time": "2022-08-15T07:38:21.157367",
          "exception": false,
          "start_time": "2022-08-15T07:38:21.154663",
          "status": "completed"
        },
        "tags": [],
        "id": "f3d202be"
      },
      "source": [
        "## Simplest example\n",
        "\n",
        "Here's the simplest most minimal example with just a training loop (no validation, no testing).\n",
        "\n",
        "**Keep in Mind** - A `LightningModule` *is* a PyTorch `nn.Module` - it just has a few more helpful features."
      ]
    },
    {
      "cell_type": "code",
      "execution_count": null,
      "id": "b4006d34",
      "metadata": {
        "execution": {
          "iopub.execute_input": "2022-08-15T07:38:21.164985Z",
          "iopub.status.busy": "2022-08-15T07:38:21.163865Z",
          "iopub.status.idle": "2022-08-15T07:38:21.169743Z",
          "shell.execute_reply": "2022-08-15T07:38:21.169093Z"
        },
        "papermill": {
          "duration": 0.011232,
          "end_time": "2022-08-15T07:38:21.171284",
          "exception": false,
          "start_time": "2022-08-15T07:38:21.160052",
          "status": "completed"
        },
        "tags": [],
        "id": "b4006d34"
      },
      "outputs": [],
      "source": [
        "class MNISTModel(LightningModule):\n",
        "    def __init__(self):\n",
        "        super().__init__()\n",
        "        self.l1 = torch.nn.Linear(28 * 28, 10)\n",
        "\n",
        "    def forward(self, x):\n",
        "        return torch.relu(self.l1(x.view(x.size(0), -1)))\n",
        "\n",
        "    def training_step(self, batch, batch_nb):\n",
        "        x, y = batch\n",
        "        loss = F.cross_entropy(self(x), y)\n",
        "        return loss\n",
        "\n",
        "    def configure_optimizers(self):\n",
        "        return torch.optim.Adam(self.parameters(), lr=0.02)"
      ]
    },
    {
      "cell_type": "markdown",
      "id": "8f90796b",
      "metadata": {
        "papermill": {
          "duration": 0.003934,
          "end_time": "2022-08-15T07:38:21.178257",
          "exception": false,
          "start_time": "2022-08-15T07:38:21.174323",
          "status": "completed"
        },
        "tags": [],
        "id": "8f90796b"
      },
      "source": [
        "By using the `Trainer` you automatically get:\n",
        "1. Tensorboard logging\n",
        "2. Model checkpointing\n",
        "3. Training and validation loop\n",
        "4. early-stopping"
      ]
    },
    {
      "cell_type": "code",
      "execution_count": null,
      "id": "3268802f",
      "metadata": {
        "execution": {
          "iopub.execute_input": "2022-08-15T07:38:21.186850Z",
          "iopub.status.busy": "2022-08-15T07:38:21.186288Z",
          "iopub.status.idle": "2022-08-15T07:38:44.086018Z",
          "shell.execute_reply": "2022-08-15T07:38:44.085313Z"
        },
        "papermill": {
          "duration": 22.906386,
          "end_time": "2022-08-15T07:38:44.087649",
          "exception": false,
          "start_time": "2022-08-15T07:38:21.181263",
          "status": "completed"
        },
        "tags": [],
        "id": "3268802f",
        "outputId": "b73e8dc2-93a1-4d93-b5b8-88ee95ea974d",
        "colab": {
          "referenced_widgets": [
            "b250fc528ad34540a8c799a8edcbcaa6"
          ]
        }
      },
      "outputs": [
        {
          "name": "stderr",
          "output_type": "stream",
          "text": [
            "GPU available: True (cuda), used: True\n"
          ]
        },
        {
          "name": "stderr",
          "output_type": "stream",
          "text": [
            "TPU available: False, using: 0 TPU cores\n"
          ]
        },
        {
          "name": "stderr",
          "output_type": "stream",
          "text": [
            "IPU available: False, using: 0 IPUs\n"
          ]
        },
        {
          "name": "stderr",
          "output_type": "stream",
          "text": [
            "HPU available: False, using: 0 HPUs\n"
          ]
        },
        {
          "name": "stderr",
          "output_type": "stream",
          "text": [
            "LOCAL_RANK: 0 - CUDA_VISIBLE_DEVICES: [0,1]\n"
          ]
        },
        {
          "name": "stderr",
          "output_type": "stream",
          "text": [
            "\n",
            "  | Name | Type   | Params\n",
            "--------------------------------\n",
            "0 | l1   | Linear | 7.9 K \n",
            "--------------------------------\n",
            "7.9 K     Trainable params\n",
            "0         Non-trainable params\n",
            "7.9 K     Total params\n",
            "0.031     Total estimated model params size (MB)\n"
          ]
        },
        {
          "name": "stderr",
          "output_type": "stream",
          "text": [
            "/home/AzDevOps_azpcontainer/.local/lib/python3.8/site-packages/pytorch_lightning/trainer/connectors/data_connector.py:219: PossibleUserWarning: The dataloader, train_dataloader, does not have many workers which may be a bottleneck. Consider increasing the value of the `num_workers` argument` (try 12 which is the number of cpus on this machine) in the `DataLoader` init to improve performance.\n",
            "  rank_zero_warn(\n"
          ]
        },
        {
          "data": {
            "application/vnd.jupyter.widget-view+json": {
              "model_id": "b250fc528ad34540a8c799a8edcbcaa6",
              "version_major": 2,
              "version_minor": 0
            },
            "text/plain": [
              "Training: 0it [00:00, ?it/s]"
            ]
          },
          "metadata": {},
          "output_type": "display_data"
        },
        {
          "name": "stderr",
          "output_type": "stream",
          "text": [
            "`Trainer.fit` stopped: `max_epochs=3` reached.\n"
          ]
        }
      ],
      "source": [
        "# Init our model\n",
        "mnist_model = MNISTModel()\n",
        "\n",
        "# Init DataLoader from MNIST Dataset\n",
        "train_ds = MNIST(PATH_DATASETS, train=True, download=True, transform=transforms.ToTensor())\n",
        "train_loader = DataLoader(train_ds, batch_size=BATCH_SIZE)\n",
        "\n",
        "# Initialize a trainer\n",
        "trainer = Trainer(\n",
        "    accelerator=\"auto\",\n",
        "    devices=1 if torch.cuda.is_available() else None,  # limiting got iPython runs\n",
        "    max_epochs=3,\n",
        "    callbacks=[TQDMProgressBar(refresh_rate=20)],\n",
        ")\n",
        "\n",
        "# Train the model ⚡\n",
        "trainer.fit(mnist_model, train_loader)"
      ]
    },
    {
      "cell_type": "markdown",
      "id": "2d68706b",
      "metadata": {
        "lines_to_next_cell": 2,
        "papermill": {
          "duration": 0.003345,
          "end_time": "2022-08-15T07:38:44.094709",
          "exception": false,
          "start_time": "2022-08-15T07:38:44.091364",
          "status": "completed"
        },
        "tags": [],
        "id": "2d68706b"
      },
      "source": [
        "## A more complete MNIST Lightning Module Example\n",
        "\n",
        "That wasn't so hard was it?\n",
        "\n",
        "Now that we've got our feet wet, let's dive in a bit deeper and write a more complete `LightningModule` for MNIST...\n",
        "\n",
        "This time, we'll bake in all the dataset specific pieces directly in the `LightningModule`.\n",
        "This way, we can avoid writing extra code at the beginning of our script every time we want to run it.\n",
        "\n",
        "---\n",
        "\n",
        "### Note what the following built-in functions are doing:\n",
        "\n",
        "1. [prepare_data()](https://pytorch-lightning.readthedocs.io/en/stable/common/lightning_module.html#prepare-data) 💾\n",
        "    - This is where we can download the dataset. We point to our desired dataset and ask torchvision's `MNIST` dataset class to download if the dataset isn't found there.\n",
        "    - **Note we do not make any state assignments in this function** (i.e. `self.something = ...`)\n",
        "\n",
        "2. [setup(stage)](https://pytorch-lightning.readthedocs.io/en/stable/common/lightning_module.html#setup) ⚙️\n",
        "    - Loads in data from file and prepares PyTorch tensor datasets for each split (train, val, test).\n",
        "    - Setup expects a 'stage' arg which is used to separate logic for 'fit' and 'test'.\n",
        "    - If you don't mind loading all your datasets at once, you can set up a condition to allow for both 'fit' related setup and 'test' related setup to run whenever `None` is passed to `stage` (or ignore it altogether and exclude any conditionals).\n",
        "    - **Note this runs across all GPUs and it *is* safe to make state assignments here**\n",
        "\n",
        "3. [x_dataloader()](https://pytorch-lightning.readthedocs.io/en/stable/api/pytorch_lightning.core.hooks.DataHooks.html#pytorch_lightning.core.hooks.DataHooks.train_dataloader) ♻️\n",
        "    - `train_dataloader()`, `val_dataloader()`, and `test_dataloader()` all return PyTorch `DataLoader` instances that are created by wrapping their respective datasets that we prepared in `setup()`"
      ]
    },
    {
      "cell_type": "code",
      "execution_count": null,
      "id": "d044c45e",
      "metadata": {
        "execution": {
          "iopub.execute_input": "2022-08-15T07:38:44.102843Z",
          "iopub.status.busy": "2022-08-15T07:38:44.102322Z",
          "iopub.status.idle": "2022-08-15T07:38:44.116414Z",
          "shell.execute_reply": "2022-08-15T07:38:44.115760Z"
        },
        "papermill": {
          "duration": 0.020071,
          "end_time": "2022-08-15T07:38:44.117930",
          "exception": false,
          "start_time": "2022-08-15T07:38:44.097859",
          "status": "completed"
        },
        "tags": [],
        "id": "d044c45e"
      },
      "outputs": [],
      "source": [
        "class LitMNIST(LightningModule):\n",
        "    def __init__(self, data_dir=PATH_DATASETS, hidden_size=64, learning_rate=2e-4):\n",
        "\n",
        "        super().__init__()\n",
        "\n",
        "        # Set our init args as class attributes\n",
        "        self.data_dir = data_dir\n",
        "        self.hidden_size = hidden_size\n",
        "        self.learning_rate = learning_rate\n",
        "\n",
        "        # Hardcode some dataset specific attributes\n",
        "        self.num_classes = 10\n",
        "        self.dims = (1, 28, 28)\n",
        "        channels, width, height = self.dims\n",
        "        self.transform = transforms.Compose(\n",
        "            [\n",
        "                transforms.ToTensor(),\n",
        "                transforms.Normalize((0.1307,), (0.3081,)),\n",
        "            ]\n",
        "        )\n",
        "\n",
        "        # Define PyTorch model\n",
        "        self.model = nn.Sequential(\n",
        "            nn.Flatten(),\n",
        "            nn.Linear(channels * width * height, hidden_size),\n",
        "            nn.ReLU(),\n",
        "            nn.Dropout(0.1),\n",
        "            nn.Linear(hidden_size, hidden_size),\n",
        "            nn.ReLU(),\n",
        "            nn.Dropout(0.1),\n",
        "            nn.Linear(hidden_size, self.num_classes),\n",
        "        )\n",
        "\n",
        "        self.val_accuracy = Accuracy()\n",
        "        self.test_accuracy = Accuracy()\n",
        "\n",
        "    def forward(self, x):\n",
        "        x = self.model(x)\n",
        "        return F.log_softmax(x, dim=1)\n",
        "\n",
        "    def training_step(self, batch, batch_idx):\n",
        "        x, y = batch\n",
        "        logits = self(x)\n",
        "        loss = F.nll_loss(logits, y)\n",
        "        return loss\n",
        "\n",
        "    def validation_step(self, batch, batch_idx):\n",
        "        x, y = batch\n",
        "        logits = self(x)\n",
        "        loss = F.nll_loss(logits, y)\n",
        "        preds = torch.argmax(logits, dim=1)\n",
        "        self.val_accuracy.update(preds, y)\n",
        "\n",
        "        # Calling self.log will surface up scalars for you in TensorBoard\n",
        "        self.log(\"val_loss\", loss, prog_bar=True)\n",
        "        self.log(\"val_acc\", self.val_accuracy, prog_bar=True)\n",
        "\n",
        "    def test_step(self, batch, batch_idx):\n",
        "        x, y = batch\n",
        "        logits = self(x)\n",
        "        loss = F.nll_loss(logits, y)\n",
        "        preds = torch.argmax(logits, dim=1)\n",
        "        self.test_accuracy.update(preds, y)\n",
        "\n",
        "        # Calling self.log will surface up scalars for you in TensorBoard\n",
        "        self.log(\"test_loss\", loss, prog_bar=True)\n",
        "        self.log(\"test_acc\", self.test_accuracy, prog_bar=True)\n",
        "\n",
        "    def configure_optimizers(self):\n",
        "        optimizer = torch.optim.Adam(self.parameters(), lr=self.learning_rate)\n",
        "        return optimizer\n",
        "\n",
        "    ####################\n",
        "    # DATA RELATED HOOKS\n",
        "    ####################\n",
        "\n",
        "    def prepare_data(self):\n",
        "        # download\n",
        "        MNIST(self.data_dir, train=True, download=True)\n",
        "        MNIST(self.data_dir, train=False, download=True)\n",
        "\n",
        "    def setup(self, stage=None):\n",
        "\n",
        "        # Assign train/val datasets for use in dataloaders\n",
        "        if stage == \"fit\" or stage is None:\n",
        "            mnist_full = MNIST(self.data_dir, train=True, transform=self.transform)\n",
        "            self.mnist_train, self.mnist_val = random_split(mnist_full, [55000, 5000])\n",
        "\n",
        "        # Assign test dataset for use in dataloader(s)\n",
        "        if stage == \"test\" or stage is None:\n",
        "            self.mnist_test = MNIST(self.data_dir, train=False, transform=self.transform)\n",
        "\n",
        "    def train_dataloader(self):\n",
        "        return DataLoader(self.mnist_train, batch_size=BATCH_SIZE)\n",
        "\n",
        "    def val_dataloader(self):\n",
        "        return DataLoader(self.mnist_val, batch_size=BATCH_SIZE)\n",
        "\n",
        "    def test_dataloader(self):\n",
        "        return DataLoader(self.mnist_test, batch_size=BATCH_SIZE)"
      ]
    },
    {
      "cell_type": "code",
      "execution_count": null,
      "id": "e2be9463",
      "metadata": {
        "execution": {
          "iopub.execute_input": "2022-08-15T07:38:44.130113Z",
          "iopub.status.busy": "2022-08-15T07:38:44.129645Z",
          "iopub.status.idle": "2022-08-15T07:39:18.947964Z",
          "shell.execute_reply": "2022-08-15T07:39:18.947221Z"
        },
        "papermill": {
          "duration": 34.824096,
          "end_time": "2022-08-15T07:39:18.949581",
          "exception": false,
          "start_time": "2022-08-15T07:38:44.125485",
          "status": "completed"
        },
        "tags": [],
        "id": "e2be9463",
        "outputId": "f42976e4-3921-4794-bbbc-10cc48563054",
        "colab": {
          "referenced_widgets": [
            "d8f9e9b32b8f46479efebbd2a82a90ea",
            "c2c31c5cad74431faa620232e62dc3c6",
            "7cd0f98adc9e4cbc817a2bbf7ff8fd6e",
            "90f26221f5aa4d9fad7efda328ee7872",
            "b50edce1334f431eaab470ec9592ca2c"
          ]
        }
      },
      "outputs": [
        {
          "name": "stderr",
          "output_type": "stream",
          "text": [
            "GPU available: True (cuda), used: True\n"
          ]
        },
        {
          "name": "stderr",
          "output_type": "stream",
          "text": [
            "TPU available: False, using: 0 TPU cores\n"
          ]
        },
        {
          "name": "stderr",
          "output_type": "stream",
          "text": [
            "IPU available: False, using: 0 IPUs\n"
          ]
        },
        {
          "name": "stderr",
          "output_type": "stream",
          "text": [
            "HPU available: False, using: 0 HPUs\n"
          ]
        },
        {
          "name": "stderr",
          "output_type": "stream",
          "text": [
            "Missing logger folder: logs/lightning_logs\n"
          ]
        },
        {
          "name": "stderr",
          "output_type": "stream",
          "text": [
            "LOCAL_RANK: 0 - CUDA_VISIBLE_DEVICES: [0,1]\n"
          ]
        },
        {
          "name": "stderr",
          "output_type": "stream",
          "text": [
            "\n",
            "  | Name          | Type       | Params\n",
            "---------------------------------------------\n",
            "0 | model         | Sequential | 55.1 K\n",
            "1 | val_accuracy  | Accuracy   | 0     \n",
            "2 | test_accuracy | Accuracy   | 0     \n",
            "---------------------------------------------\n",
            "55.1 K    Trainable params\n",
            "0         Non-trainable params\n",
            "55.1 K    Total params\n",
            "0.220     Total estimated model params size (MB)\n"
          ]
        },
        {
          "data": {
            "application/vnd.jupyter.widget-view+json": {
              "model_id": "d8f9e9b32b8f46479efebbd2a82a90ea",
              "version_major": 2,
              "version_minor": 0
            },
            "text/plain": [
              "Sanity Checking: 0it [00:00, ?it/s]"
            ]
          },
          "metadata": {},
          "output_type": "display_data"
        },
        {
          "name": "stderr",
          "output_type": "stream",
          "text": [
            "/home/AzDevOps_azpcontainer/.local/lib/python3.8/site-packages/pytorch_lightning/trainer/connectors/data_connector.py:219: PossibleUserWarning: The dataloader, val_dataloader 0, does not have many workers which may be a bottleneck. Consider increasing the value of the `num_workers` argument` (try 12 which is the number of cpus on this machine) in the `DataLoader` init to improve performance.\n",
            "  rank_zero_warn(\n"
          ]
        },
        {
          "data": {
            "application/vnd.jupyter.widget-view+json": {
              "model_id": "c2c31c5cad74431faa620232e62dc3c6",
              "version_major": 2,
              "version_minor": 0
            },
            "text/plain": [
              "Training: 0it [00:00, ?it/s]"
            ]
          },
          "metadata": {},
          "output_type": "display_data"
        },
        {
          "data": {
            "application/vnd.jupyter.widget-view+json": {
              "model_id": "7cd0f98adc9e4cbc817a2bbf7ff8fd6e",
              "version_major": 2,
              "version_minor": 0
            },
            "text/plain": [
              "Validation: 0it [00:00, ?it/s]"
            ]
          },
          "metadata": {},
          "output_type": "display_data"
        },
        {
          "data": {
            "application/vnd.jupyter.widget-view+json": {
              "model_id": "90f26221f5aa4d9fad7efda328ee7872",
              "version_major": 2,
              "version_minor": 0
            },
            "text/plain": [
              "Validation: 0it [00:00, ?it/s]"
            ]
          },
          "metadata": {},
          "output_type": "display_data"
        },
        {
          "data": {
            "application/vnd.jupyter.widget-view+json": {
              "model_id": "b50edce1334f431eaab470ec9592ca2c",
              "version_major": 2,
              "version_minor": 0
            },
            "text/plain": [
              "Validation: 0it [00:00, ?it/s]"
            ]
          },
          "metadata": {},
          "output_type": "display_data"
        },
        {
          "name": "stderr",
          "output_type": "stream",
          "text": [
            "`Trainer.fit` stopped: `max_epochs=3` reached.\n"
          ]
        }
      ],
      "source": [
        "model = LitMNIST()\n",
        "trainer = Trainer(\n",
        "    accelerator=\"auto\",\n",
        "    devices=1 if torch.cuda.is_available() else None,  # limiting got iPython runs\n",
        "    max_epochs=3,\n",
        "    callbacks=[TQDMProgressBar(refresh_rate=20)],\n",
        "    logger=CSVLogger(save_dir=\"logs/\"),\n",
        ")\n",
        "trainer.fit(model)"
      ]
    },
    {
      "cell_type": "markdown",
      "id": "dd635b38",
      "metadata": {
        "papermill": {
          "duration": 0.004346,
          "end_time": "2022-08-15T07:39:18.958411",
          "exception": false,
          "start_time": "2022-08-15T07:39:18.954065",
          "status": "completed"
        },
        "tags": [],
        "id": "dd635b38"
      },
      "source": [
        "### Testing\n",
        "\n",
        "To test a model, call `trainer.test(model)`.\n",
        "\n",
        "Or, if you've just trained a model, you can just call `trainer.test()` and Lightning will automatically\n",
        "test using the best saved checkpoint (conditioned on val_loss)."
      ]
    },
    {
      "cell_type": "code",
      "execution_count": null,
      "id": "c408962a",
      "metadata": {
        "execution": {
          "iopub.execute_input": "2022-08-15T07:39:18.967997Z",
          "iopub.status.busy": "2022-08-15T07:39:18.967629Z",
          "iopub.status.idle": "2022-08-15T07:39:20.800679Z",
          "shell.execute_reply": "2022-08-15T07:39:20.799929Z"
        },
        "papermill": {
          "duration": 1.840978,
          "end_time": "2022-08-15T07:39:20.803493",
          "exception": false,
          "start_time": "2022-08-15T07:39:18.962515",
          "status": "completed"
        },
        "tags": [],
        "id": "c408962a",
        "outputId": "919f2d94-b771-49cf-bbaa-a7f75f5cf7db",
        "colab": {
          "referenced_widgets": [
            "6364c95a14c6439b9d146e9678bbdcd5"
          ]
        }
      },
      "outputs": [
        {
          "name": "stderr",
          "output_type": "stream",
          "text": [
            "/home/AzDevOps_azpcontainer/.local/lib/python3.8/site-packages/pytorch_lightning/trainer/trainer.py:1388: UserWarning: `.test(ckpt_path=None)` was called without a model. The best model of the previous `fit` call will be used. You can pass `.test(ckpt_path='best')` to use the best model or `.test(ckpt_path='last')` to use the last model. If you pass a value, this warning will be silenced.\n",
            "  rank_zero_warn(\n",
            "Restoring states from the checkpoint path at logs/lightning_logs/version_0/checkpoints/epoch=2-step=645.ckpt\n"
          ]
        },
        {
          "name": "stderr",
          "output_type": "stream",
          "text": [
            "LOCAL_RANK: 0 - CUDA_VISIBLE_DEVICES: [0,1]\n"
          ]
        },
        {
          "name": "stderr",
          "output_type": "stream",
          "text": [
            "Loaded model weights from checkpoint at logs/lightning_logs/version_0/checkpoints/epoch=2-step=645.ckpt\n"
          ]
        },
        {
          "name": "stderr",
          "output_type": "stream",
          "text": [
            "/home/AzDevOps_azpcontainer/.local/lib/python3.8/site-packages/pytorch_lightning/trainer/connectors/data_connector.py:219: PossibleUserWarning: The dataloader, test_dataloader 0, does not have many workers which may be a bottleneck. Consider increasing the value of the `num_workers` argument` (try 12 which is the number of cpus on this machine) in the `DataLoader` init to improve performance.\n",
            "  rank_zero_warn(\n"
          ]
        },
        {
          "data": {
            "application/vnd.jupyter.widget-view+json": {
              "model_id": "6364c95a14c6439b9d146e9678bbdcd5",
              "version_major": 2,
              "version_minor": 0
            },
            "text/plain": [
              "Testing: 0it [00:00, ?it/s]"
            ]
          },
          "metadata": {},
          "output_type": "display_data"
        },
        {
          "data": {
            "text/html": [
              "<pre style=\"white-space:pre;overflow-x:auto;line-height:normal;font-family:Menlo,'DejaVu Sans Mono',consolas,'Courier New',monospace\">┏━━━━━━━━━━━━━━━━━━━━━━━━━━━┳━━━━━━━━━━━━━━━━━━━━━━━━━━━┓\n",
              "┃<span style=\"font-weight: bold\">        Test metric        </span>┃<span style=\"font-weight: bold\">       DataLoader 0        </span>┃\n",
              "┡━━━━━━━━━━━━━━━━━━━━━━━━━━━╇━━━━━━━━━━━━━━━━━━━━━━━━━━━┩\n",
              "│<span style=\"color: #008080; text-decoration-color: #008080\">         test_acc          </span>│<span style=\"color: #800080; text-decoration-color: #800080\">    0.9221000075340271     </span>│\n",
              "│<span style=\"color: #008080; text-decoration-color: #008080\">         test_loss         </span>│<span style=\"color: #800080; text-decoration-color: #800080\">    0.2563731074333191     </span>│\n",
              "└───────────────────────────┴───────────────────────────┘\n",
              "</pre>\n"
            ],
            "text/plain": [
              "┏━━━━━━━━━━━━━━━━━━━━━━━━━━━┳━━━━━━━━━━━━━━━━━━━━━━━━━━━┓\n",
              "┃\u001b[1m \u001b[0m\u001b[1m       Test metric       \u001b[0m\u001b[1m \u001b[0m┃\u001b[1m \u001b[0m\u001b[1m      DataLoader 0       \u001b[0m\u001b[1m \u001b[0m┃\n",
              "┡━━━━━━━━━━━━━━━━━━━━━━━━━━━╇━━━━━━━━━━━━━━━━━━━━━━━━━━━┩\n",
              "│\u001b[36m \u001b[0m\u001b[36m        test_acc         \u001b[0m\u001b[36m \u001b[0m│\u001b[35m \u001b[0m\u001b[35m   0.9221000075340271    \u001b[0m\u001b[35m \u001b[0m│\n",
              "│\u001b[36m \u001b[0m\u001b[36m        test_loss        \u001b[0m\u001b[36m \u001b[0m│\u001b[35m \u001b[0m\u001b[35m   0.2563731074333191    \u001b[0m\u001b[35m \u001b[0m│\n",
              "└───────────────────────────┴───────────────────────────┘\n"
            ]
          },
          "metadata": {},
          "output_type": "display_data"
        },
        {
          "data": {
            "text/plain": [
              "[{'test_loss': 0.2563731074333191, 'test_acc': 0.9221000075340271}]"
            ]
          },
          "execution_count": 7,
          "metadata": {},
          "output_type": "execute_result"
        }
      ],
      "source": [
        "trainer.test()"
      ]
    },
    {
      "cell_type": "markdown",
      "id": "c7cfa5b0",
      "metadata": {
        "papermill": {
          "duration": 0.004456,
          "end_time": "2022-08-15T07:39:20.812997",
          "exception": false,
          "start_time": "2022-08-15T07:39:20.808541",
          "status": "completed"
        },
        "tags": [],
        "id": "c7cfa5b0"
      },
      "source": [
        "### Bonus Tip\n",
        "\n",
        "You can keep calling `trainer.fit(model)` as many times as you'd like to continue training"
      ]
    },
    {
      "cell_type": "code",
      "execution_count": null,
      "id": "11c15b6d",
      "metadata": {
        "execution": {
          "iopub.execute_input": "2022-08-15T07:39:20.824136Z",
          "iopub.status.busy": "2022-08-15T07:39:20.823685Z",
          "iopub.status.idle": "2022-08-15T07:39:21.093991Z",
          "shell.execute_reply": "2022-08-15T07:39:21.093269Z"
        },
        "papermill": {
          "duration": 0.278034,
          "end_time": "2022-08-15T07:39:21.095622",
          "exception": false,
          "start_time": "2022-08-15T07:39:20.817588",
          "status": "completed"
        },
        "tags": [],
        "id": "11c15b6d",
        "outputId": "0d80c06e-d4d8-4f33-efac-4c06e98d1531",
        "colab": {
          "referenced_widgets": [
            "095e69aee4b94600aa62b3254319b657"
          ]
        }
      },
      "outputs": [
        {
          "name": "stderr",
          "output_type": "stream",
          "text": [
            "/home/AzDevOps_azpcontainer/.local/lib/python3.8/site-packages/pytorch_lightning/callbacks/model_checkpoint.py:616: UserWarning: Checkpoint directory logs/lightning_logs/version_0/checkpoints exists and is not empty.\n",
            "  rank_zero_warn(f\"Checkpoint directory {dirpath} exists and is not empty.\")\n"
          ]
        },
        {
          "name": "stderr",
          "output_type": "stream",
          "text": [
            "LOCAL_RANK: 0 - CUDA_VISIBLE_DEVICES: [0,1]\n"
          ]
        },
        {
          "name": "stderr",
          "output_type": "stream",
          "text": [
            "\n",
            "  | Name          | Type       | Params\n",
            "---------------------------------------------\n",
            "0 | model         | Sequential | 55.1 K\n",
            "1 | val_accuracy  | Accuracy   | 0     \n",
            "2 | test_accuracy | Accuracy   | 0     \n",
            "---------------------------------------------\n",
            "55.1 K    Trainable params\n",
            "0         Non-trainable params\n",
            "55.1 K    Total params\n",
            "0.220     Total estimated model params size (MB)\n"
          ]
        },
        {
          "data": {
            "application/vnd.jupyter.widget-view+json": {
              "model_id": "095e69aee4b94600aa62b3254319b657",
              "version_major": 2,
              "version_minor": 0
            },
            "text/plain": [
              "Sanity Checking: 0it [00:00, ?it/s]"
            ]
          },
          "metadata": {},
          "output_type": "display_data"
        },
        {
          "name": "stderr",
          "output_type": "stream",
          "text": [
            "`Trainer.fit` stopped: `max_epochs=3` reached.\n"
          ]
        }
      ],
      "source": [
        "trainer.fit(model)"
      ]
    },
    {
      "cell_type": "markdown",
      "id": "c5dc723e",
      "metadata": {
        "papermill": {
          "duration": 0.004673,
          "end_time": "2022-08-15T07:39:21.105679",
          "exception": false,
          "start_time": "2022-08-15T07:39:21.101006",
          "status": "completed"
        },
        "tags": [],
        "id": "c5dc723e"
      },
      "source": [
        "In Colab, you can use the TensorBoard magic function to view the logs that Lightning has created for you!"
      ]
    },
    {
      "cell_type": "code",
      "execution_count": null,
      "id": "047afaca",
      "metadata": {
        "execution": {
          "iopub.execute_input": "2022-08-15T07:39:21.116914Z",
          "iopub.status.busy": "2022-08-15T07:39:21.116563Z",
          "iopub.status.idle": "2022-08-15T07:39:21.472331Z",
          "shell.execute_reply": "2022-08-15T07:39:21.471622Z"
        },
        "papermill": {
          "duration": 0.363582,
          "end_time": "2022-08-15T07:39:21.473935",
          "exception": false,
          "start_time": "2022-08-15T07:39:21.110353",
          "status": "completed"
        },
        "tags": [],
        "id": "047afaca",
        "outputId": "85d10792-1d63-4a05-949e-dca5943f851d"
      },
      "outputs": [
        {
          "data": {
            "text/html": [
              "<div>\n",
              "<style scoped>\n",
              "    .dataframe tbody tr th:only-of-type {\n",
              "        vertical-align: middle;\n",
              "    }\n",
              "\n",
              "    .dataframe tbody tr th {\n",
              "        vertical-align: top;\n",
              "    }\n",
              "\n",
              "    .dataframe thead th {\n",
              "        text-align: right;\n",
              "    }\n",
              "</style>\n",
              "<table border=\"1\" class=\"dataframe\">\n",
              "  <thead>\n",
              "    <tr style=\"text-align: right;\">\n",
              "      <th></th>\n",
              "      <th>val_loss</th>\n",
              "      <th>val_acc</th>\n",
              "      <th>test_loss</th>\n",
              "      <th>test_acc</th>\n",
              "    </tr>\n",
              "    <tr>\n",
              "      <th>epoch</th>\n",
              "      <th></th>\n",
              "      <th></th>\n",
              "      <th></th>\n",
              "      <th></th>\n",
              "    </tr>\n",
              "  </thead>\n",
              "  <tbody>\n",
              "    <tr>\n",
              "      <th>0</th>\n",
              "      <td>0.421239</td>\n",
              "      <td>0.8878</td>\n",
              "      <td>NaN</td>\n",
              "      <td>NaN</td>\n",
              "    </tr>\n",
              "    <tr>\n",
              "      <th>1</th>\n",
              "      <td>0.308142</td>\n",
              "      <td>0.9100</td>\n",
              "      <td>NaN</td>\n",
              "      <td>NaN</td>\n",
              "    </tr>\n",
              "    <tr>\n",
              "      <th>2</th>\n",
              "      <td>0.264550</td>\n",
              "      <td>0.9236</td>\n",
              "      <td>NaN</td>\n",
              "      <td>NaN</td>\n",
              "    </tr>\n",
              "    <tr>\n",
              "      <th>2</th>\n",
              "      <td>NaN</td>\n",
              "      <td>NaN</td>\n",
              "      <td>0.256373</td>\n",
              "      <td>0.9221</td>\n",
              "    </tr>\n",
              "  </tbody>\n",
              "</table>\n",
              "</div>"
            ],
            "text/plain": [
              "       val_loss  val_acc  test_loss  test_acc\n",
              "epoch                                        \n",
              "0      0.421239   0.8878        NaN       NaN\n",
              "1      0.308142   0.9100        NaN       NaN\n",
              "2      0.264550   0.9236        NaN       NaN\n",
              "2           NaN      NaN   0.256373    0.9221"
            ]
          },
          "metadata": {},
          "output_type": "display_data"
        },
        {
          "data": {
            "text/plain": [
              "<seaborn.axisgrid.FacetGrid at 0x7f4340612730>"
            ]
          },
          "execution_count": 9,
          "metadata": {},
          "output_type": "execute_result"
        },
        {
          "data": {
            "image/png": "[encoded data removed]",
            "text/plain": [
              "<Figure size 439.5x360 with 1 Axes>"
            ]
          },
          "metadata": {
            "needs_background": "light"
          },
          "output_type": "display_data"
        }
      ],
      "source": [
        "\n",
        "metrics = pd.read_csv(f\"{trainer.logger.log_dir}/metrics.csv\")\n",
        "del metrics[\"step\"]\n",
        "metrics.set_index(\"epoch\", inplace=True)\n",
        "display(metrics.dropna(axis=1, how=\"all\").head())\n",
        "sn.relplot(data=metrics, kind=\"line\")"
      ]
    },
    {
      "cell_type": "markdown",
      "id": "5ef71e24",
      "metadata": {
        "papermill": {
          "duration": 0.005193,
          "end_time": "2022-08-15T07:39:21.485549",
          "exception": false,
          "start_time": "2022-08-15T07:39:21.480356",
          "status": "completed"
        },
        "tags": [],
        "id": "5ef71e24"
      },
      "source": [
        "## Congratulations - Time to Join the Community!\n",
        "\n",
        "Congratulations on completing this notebook tutorial! If you enjoyed this and would like to join the Lightning\n",
        "movement, you can do so in the following ways!\n",
        "\n",
        "### Star [Lightning](https://github.com/PyTorchLightning/pytorch-lightning) on GitHub\n",
        "The easiest way to help our community is just by starring the GitHub repos! This helps raise awareness of the cool\n",
        "tools we're building.\n",
        "\n",
        "### Join our [Slack](https://www.pytorchlightning.ai/community)!\n",
        "The best way to keep up to date on the latest advancements is to join our community! Make sure to introduce yourself\n",
        "and share your interests in `#general` channel\n",
        "\n",
        "\n",
        "### Contributions !\n",
        "The best way to contribute to our community is to become a code contributor! At any time you can go to\n",
        "[Lightning](https://github.com/PyTorchLightning/pytorch-lightning) or [Bolt](https://github.com/PyTorchLightning/lightning-bolts)\n",
        "GitHub Issues page and filter for \"good first issue\".\n",
        "\n",
        "* [Lightning good first issue](https://github.com/PyTorchLightning/pytorch-lightning/issues?q=is%3Aopen+is%3Aissue+label%3A%22good+first+issue%22)\n",
        "* [Bolt good first issue](https://github.com/PyTorchLightning/lightning-bolts/issues?q=is%3Aopen+is%3Aissue+label%3A%22good+first+issue%22)\n",
        "* You can also contribute your own notebooks with useful examples !\n",
        "\n",
        "### Great thanks from the entire Pytorch Lightning Team for your interest !\n",
        "\n",
        "[![Pytorch Lightning](data:image/png;base64,NDA0OiBOb3QgRm91bmQ=){height=\"60px\" width=\"240px\"}](https://pytorchlightning.ai)"
      ]
    }
  ],
  "metadata": {
    "jupytext": {
      "cell_metadata_filter": "colab_type,colab,id,-all",
      "formats": "ipynb,py:percent",
      "main_language": "python"
    },
    "language_info": {
      "codemirror_mode": {
        "name": "ipython",
        "version": 3
      },
      "file_extension": ".py",
      "mimetype": "text/x-python",
      "name": "python",
      "nbconvert_exporter": "python",
      "pygments_lexer": "ipython3",
      "version": "3.8.10"
    },
    "papermill": {
      "default_parameters": {},
      "duration": 72.337649,
      "end_time": "2022-08-15T07:39:22.813197",
      "environment_variables": {},
      "exception": null,
      "input_path": "lightning_examples/mnist-hello-world/hello-world.ipynb",
      "output_path": ".notebooks/lightning_examples/mnist-hello-world.ipynb",
      "parameters": {},
      "start_time": "2022-08-15T07:38:10.475548",
      "version": "2.4.0"
    },
    "widgets": {
      "application/vnd.jupyter.widget-state+json": {}
    },
    "colab": {
      "provenance": []
    }
  },
  "nbformat": 4,
  "nbformat_minor": 5
}