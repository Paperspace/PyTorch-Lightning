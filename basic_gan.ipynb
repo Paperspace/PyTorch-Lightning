{
  "cells": [
    {
      "cell_type": "markdown",
      "id": "b17f9883",
      "metadata": {
        "papermill": {
          "duration": 0.004365,
          "end_time": "2022-08-15T07:28:59.938509",
          "exception": false,
          "start_time": "2022-08-15T07:28:59.934144",
          "status": "completed"
        },
        "tags": [],
        "id": "b17f9883"
      },
      "source": [
        "\n",
        "# PyTorch Lightning Basic GAN Tutorial\n",
        "\n",
        "* **Author:** PL team\n",
        "* **License:** CC BY-SA\n",
        "* **Generated:** 2022-08-15T09:28:43.606365\n",
        "\n",
        "How to train a GAN!\n",
        "\n",
        "Main takeaways:\n",
        "1. Generator and discriminator are arbitrary PyTorch modules.\n",
        "2. training_step does both the generator and discriminator training.\n",
        "\n",
        "\n",
        "---\n",
        "Open in [![Open In Colab](data:image/png;base64,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){height=\"20px\" width=\"117px\"}](https://colab.research.google.com/github/PytorchLightning/lightning-tutorials/blob/publication/.notebooks/lightning_examples/basic-gan.ipynb)\n",
        "\n",
        "Give us a ⭐ [on Github](https://www.github.com/PytorchLightning/pytorch-lightning/)\n",
        "| Check out [the documentation](https://pytorch-lightning.readthedocs.io/en/stable/)\n",
        "| Join us [on Slack](https://www.pytorchlightning.ai/community)"
      ]
    },
    {
      "cell_type": "markdown",
      "id": "7a33d852",
      "metadata": {
        "papermill": {
          "duration": 0.002288,
          "end_time": "2022-08-15T07:28:59.943468",
          "exception": false,
          "start_time": "2022-08-15T07:28:59.941180",
          "status": "completed"
        },
        "tags": [],
        "id": "7a33d852"
      },
      "source": [
        "## Setup\n",
        "This notebook requires some packages besides pytorch-lightning."
      ]
    },
    {
      "cell_type": "code",
      "execution_count": null,
      "id": "15b0f81b",
      "metadata": {
        "execution": {
          "iopub.execute_input": "2022-08-15T07:28:59.950194Z",
          "iopub.status.busy": "2022-08-15T07:28:59.949324Z",
          "iopub.status.idle": "2022-08-15T07:29:03.506526Z",
          "shell.execute_reply": "2022-08-15T07:29:03.505558Z"
        },
        "id": "15b0f81b",
        "lines_to_next_cell": 0,
        "papermill": {
          "duration": 3.562885,
          "end_time": "2022-08-15T07:29:03.508729",
          "exception": false,
          "start_time": "2022-08-15T07:28:59.945844",
          "status": "completed"
        },
        "tags": []
      },
      "outputs": [],
      "source": [
        "! pip install --quiet \"pytorch-lightning>=1.4\" \"torch>=1.8\" \"torchvision\" \"ipython[notebook]\" \"torchmetrics>=0.7\" \"setuptools==59.5.0\""
      ]
    },
    {
      "cell_type": "code",
      "execution_count": null,
      "id": "d358375e",
      "metadata": {
        "execution": {
          "iopub.execute_input": "2022-08-15T07:29:03.515571Z",
          "iopub.status.busy": "2022-08-15T07:29:03.514825Z",
          "iopub.status.idle": "2022-08-15T07:29:07.501216Z",
          "shell.execute_reply": "2022-08-15T07:29:07.500187Z"
        },
        "papermill": {
          "duration": 3.991935,
          "end_time": "2022-08-15T07:29:07.503387",
          "exception": false,
          "start_time": "2022-08-15T07:29:03.511452",
          "status": "completed"
        },
        "tags": [],
        "id": "d358375e",
        "outputId": "c29c839d-98f2-4f1c-c964-bae2995c26ce"
      },
      "outputs": [
        {
          "name": "stderr",
          "output_type": "stream",
          "text": [
            "WARNING:root:Bagua cannot detect bundled NCCL library, Bagua will try to use system NCCL instead. If you encounter any error, please run `import bagua_core; bagua_core.install_deps()` or the `bagua_install_deps.py` script to install bundled libraries.\n"
          ]
        }
      ],
      "source": [
        "import os\n",
        "\n",
        "import numpy as np\n",
        "import torch\n",
        "import torch.nn as nn\n",
        "import torch.nn.functional as F\n",
        "import torchvision\n",
        "import torchvision.transforms as transforms\n",
        "from pytorch_lightning import LightningDataModule, LightningModule, Trainer\n",
        "from pytorch_lightning.callbacks.progress import TQDMProgressBar\n",
        "from torch.utils.data import DataLoader, random_split\n",
        "from torchvision.datasets import MNIST\n",
        "\n",
        "PATH_DATASETS = os.environ.get(\"PATH_DATASETS\", \".\")\n",
        "BATCH_SIZE = 256 if torch.cuda.is_available() else 64\n",
        "NUM_WORKERS = int(os.cpu_count() / 2)"
      ]
    },
    {
      "cell_type": "markdown",
      "id": "1b7faef9",
      "metadata": {
        "lines_to_next_cell": 2,
        "papermill": {
          "duration": 0.002461,
          "end_time": "2022-08-15T07:29:07.508988",
          "exception": false,
          "start_time": "2022-08-15T07:29:07.506527",
          "status": "completed"
        },
        "tags": [],
        "id": "1b7faef9"
      },
      "source": [
        "### MNIST DataModule\n",
        "\n",
        "Below, we define a DataModule for the MNIST Dataset. To learn more about DataModules, check out our tutorial\n",
        "on them or see the [latest release docs](https://pytorch-lightning.readthedocs.io/en/stable/data/datamodule.html)."
      ]
    },
    {
      "cell_type": "code",
      "execution_count": null,
      "id": "20c2ea00",
      "metadata": {
        "execution": {
          "iopub.execute_input": "2022-08-15T07:29:07.516366Z",
          "iopub.status.busy": "2022-08-15T07:29:07.515689Z",
          "iopub.status.idle": "2022-08-15T07:29:07.525387Z",
          "shell.execute_reply": "2022-08-15T07:29:07.524731Z"
        },
        "lines_to_next_cell": 2,
        "papermill": {
          "duration": 0.015533,
          "end_time": "2022-08-15T07:29:07.526892",
          "exception": false,
          "start_time": "2022-08-15T07:29:07.511359",
          "status": "completed"
        },
        "tags": [],
        "id": "20c2ea00"
      },
      "outputs": [],
      "source": [
        "class MNISTDataModule(LightningDataModule):\n",
        "    def __init__(\n",
        "        self,\n",
        "        data_dir: str = PATH_DATASETS,\n",
        "        batch_size: int = BATCH_SIZE,\n",
        "        num_workers: int = NUM_WORKERS,\n",
        "    ):\n",
        "        super().__init__()\n",
        "        self.data_dir = data_dir\n",
        "        self.batch_size = batch_size\n",
        "        self.num_workers = num_workers\n",
        "\n",
        "        self.transform = transforms.Compose(\n",
        "            [\n",
        "                transforms.ToTensor(),\n",
        "                transforms.Normalize((0.1307,), (0.3081,)),\n",
        "            ]\n",
        "        )\n",
        "\n",
        "        self.dims = (1, 28, 28)\n",
        "        self.num_classes = 10\n",
        "\n",
        "    def prepare_data(self):\n",
        "        # download\n",
        "        MNIST(self.data_dir, train=True, download=True)\n",
        "        MNIST(self.data_dir, train=False, download=True)\n",
        "\n",
        "    def setup(self, stage=None):\n",
        "        # Assign train/val datasets for use in dataloaders\n",
        "        if stage == \"fit\" or stage is None:\n",
        "            mnist_full = MNIST(self.data_dir, train=True, transform=self.transform)\n",
        "            self.mnist_train, self.mnist_val = random_split(mnist_full, [55000, 5000])\n",
        "\n",
        "        # Assign test dataset for use in dataloader(s)\n",
        "        if stage == \"test\" or stage is None:\n",
        "            self.mnist_test = MNIST(self.data_dir, train=False, transform=self.transform)\n",
        "\n",
        "    def train_dataloader(self):\n",
        "        return DataLoader(\n",
        "            self.mnist_train,\n",
        "            batch_size=self.batch_size,\n",
        "            num_workers=self.num_workers,\n",
        "        )\n",
        "\n",
        "    def val_dataloader(self):\n",
        "        return DataLoader(self.mnist_val, batch_size=self.batch_size, num_workers=self.num_workers)\n",
        "\n",
        "    def test_dataloader(self):\n",
        "        return DataLoader(self.mnist_test, batch_size=self.batch_size, num_workers=self.num_workers)"
      ]
    },
    {
      "cell_type": "markdown",
      "id": "2a21af8b",
      "metadata": {
        "lines_to_next_cell": 2,
        "papermill": {
          "duration": 0.00252,
          "end_time": "2022-08-15T07:29:07.531857",
          "exception": false,
          "start_time": "2022-08-15T07:29:07.529337",
          "status": "completed"
        },
        "tags": [],
        "id": "2a21af8b"
      },
      "source": [
        "### A. Generator"
      ]
    },
    {
      "cell_type": "code",
      "execution_count": null,
      "id": "033f019f",
      "metadata": {
        "execution": {
          "iopub.execute_input": "2022-08-15T07:29:07.538198Z",
          "iopub.status.busy": "2022-08-15T07:29:07.537540Z",
          "iopub.status.idle": "2022-08-15T07:29:07.543456Z",
          "shell.execute_reply": "2022-08-15T07:29:07.542814Z"
        },
        "lines_to_next_cell": 2,
        "papermill": {
          "duration": 0.010576,
          "end_time": "2022-08-15T07:29:07.544912",
          "exception": false,
          "start_time": "2022-08-15T07:29:07.534336",
          "status": "completed"
        },
        "tags": [],
        "id": "033f019f"
      },
      "outputs": [],
      "source": [
        "class Generator(nn.Module):\n",
        "    def __init__(self, latent_dim, img_shape):\n",
        "        super().__init__()\n",
        "        self.img_shape = img_shape\n",
        "\n",
        "        def block(in_feat, out_feat, normalize=True):\n",
        "            layers = [nn.Linear(in_feat, out_feat)]\n",
        "            if normalize:\n",
        "                layers.append(nn.BatchNorm1d(out_feat, 0.8))\n",
        "            layers.append(nn.LeakyReLU(0.2, inplace=True))\n",
        "            return layers\n",
        "\n",
        "        self.model = nn.Sequential(\n",
        "            *block(latent_dim, 128, normalize=False),\n",
        "            *block(128, 256),\n",
        "            *block(256, 512),\n",
        "            *block(512, 1024),\n",
        "            nn.Linear(1024, int(np.prod(img_shape))),\n",
        "            nn.Tanh(),\n",
        "        )\n",
        "\n",
        "    def forward(self, z):\n",
        "        img = self.model(z)\n",
        "        img = img.view(img.size(0), *self.img_shape)\n",
        "        return img"
      ]
    },
    {
      "cell_type": "markdown",
      "id": "3778cf5c",
      "metadata": {
        "lines_to_next_cell": 2,
        "papermill": {
          "duration": 0.002528,
          "end_time": "2022-08-15T07:29:07.549802",
          "exception": false,
          "start_time": "2022-08-15T07:29:07.547274",
          "status": "completed"
        },
        "tags": [],
        "id": "3778cf5c"
      },
      "source": [
        "### B. Discriminator"
      ]
    },
    {
      "cell_type": "code",
      "execution_count": null,
      "id": "9b3ab51e",
      "metadata": {
        "execution": {
          "iopub.execute_input": "2022-08-15T07:29:07.555874Z",
          "iopub.status.busy": "2022-08-15T07:29:07.555416Z",
          "iopub.status.idle": "2022-08-15T07:29:07.560619Z",
          "shell.execute_reply": "2022-08-15T07:29:07.559893Z"
        },
        "lines_to_next_cell": 2,
        "papermill": {
          "duration": 0.009715,
          "end_time": "2022-08-15T07:29:07.562017",
          "exception": false,
          "start_time": "2022-08-15T07:29:07.552302",
          "status": "completed"
        },
        "tags": [],
        "id": "9b3ab51e"
      },
      "outputs": [],
      "source": [
        "class Discriminator(nn.Module):\n",
        "    def __init__(self, img_shape):\n",
        "        super().__init__()\n",
        "\n",
        "        self.model = nn.Sequential(\n",
        "            nn.Linear(int(np.prod(img_shape)), 512),\n",
        "            nn.LeakyReLU(0.2, inplace=True),\n",
        "            nn.Linear(512, 256),\n",
        "            nn.LeakyReLU(0.2, inplace=True),\n",
        "            nn.Linear(256, 1),\n",
        "            nn.Sigmoid(),\n",
        "        )\n",
        "\n",
        "    def forward(self, img):\n",
        "        img_flat = img.view(img.size(0), -1)\n",
        "        validity = self.model(img_flat)\n",
        "\n",
        "        return validity"
      ]
    },
    {
      "cell_type": "markdown",
      "id": "dc845d89",
      "metadata": {
        "lines_to_next_cell": 2,
        "papermill": {
          "duration": 0.002416,
          "end_time": "2022-08-15T07:29:07.566859",
          "exception": false,
          "start_time": "2022-08-15T07:29:07.564443",
          "status": "completed"
        },
        "tags": [],
        "id": "dc845d89"
      },
      "source": [
        "### C. GAN\n",
        "\n",
        "#### A couple of cool features to check out in this example...\n",
        "\n",
        "  - We use `some_tensor.type_as(another_tensor)` to make sure we initialize new tensors on the right device (i.e. GPU, CPU).\n",
        "    - Lightning will put your dataloader data on the right device automatically\n",
        "    - In this example, we pull from latent dim on the fly, so we need to dynamically add tensors to the right device.\n",
        "    - `type_as` is the way we recommend to do this.\n",
        "  - This example shows how to use multiple dataloaders in your `LightningModule`."
      ]
    },
    {
      "cell_type": "code",
      "execution_count": null,
      "id": "560da287",
      "metadata": {
        "execution": {
          "iopub.execute_input": "2022-08-15T07:29:07.573456Z",
          "iopub.status.busy": "2022-08-15T07:29:07.573129Z",
          "iopub.status.idle": "2022-08-15T07:29:07.584484Z",
          "shell.execute_reply": "2022-08-15T07:29:07.583763Z"
        },
        "papermill": {
          "duration": 0.016684,
          "end_time": "2022-08-15T07:29:07.585977",
          "exception": false,
          "start_time": "2022-08-15T07:29:07.569293",
          "status": "completed"
        },
        "tags": [],
        "id": "560da287"
      },
      "outputs": [],
      "source": [
        "class GAN(LightningModule):\n",
        "    def __init__(\n",
        "        self,\n",
        "        channels,\n",
        "        width,\n",
        "        height,\n",
        "        latent_dim: int = 100,\n",
        "        lr: float = 0.0002,\n",
        "        b1: float = 0.5,\n",
        "        b2: float = 0.999,\n",
        "        batch_size: int = BATCH_SIZE,\n",
        "        **kwargs,\n",
        "    ):\n",
        "        super().__init__()\n",
        "        self.save_hyperparameters()\n",
        "\n",
        "        # networks\n",
        "        data_shape = (channels, width, height)\n",
        "        self.generator = Generator(latent_dim=self.hparams.latent_dim, img_shape=data_shape)\n",
        "        self.discriminator = Discriminator(img_shape=data_shape)\n",
        "\n",
        "        self.validation_z = torch.randn(8, self.hparams.latent_dim)\n",
        "\n",
        "        self.example_input_array = torch.zeros(2, self.hparams.latent_dim)\n",
        "\n",
        "    def forward(self, z):\n",
        "        return self.generator(z)\n",
        "\n",
        "    def adversarial_loss(self, y_hat, y):\n",
        "        return F.binary_cross_entropy(y_hat, y)\n",
        "\n",
        "    def training_step(self, batch, batch_idx, optimizer_idx):\n",
        "        imgs, _ = batch\n",
        "\n",
        "        # sample noise\n",
        "        z = torch.randn(imgs.shape[0], self.hparams.latent_dim)\n",
        "        z = z.type_as(imgs)\n",
        "\n",
        "        # train generator\n",
        "        if optimizer_idx == 0:\n",
        "\n",
        "            # generate images\n",
        "            self.generated_imgs = self(z)\n",
        "\n",
        "            # log sampled images\n",
        "            sample_imgs = self.generated_imgs[:6]\n",
        "            grid = torchvision.utils.make_grid(sample_imgs)\n",
        "            self.logger.experiment.add_image(\"generated_images\", grid, 0)\n",
        "\n",
        "            # ground truth result (ie: all fake)\n",
        "            # put on GPU because we created this tensor inside training_loop\n",
        "            valid = torch.ones(imgs.size(0), 1)\n",
        "            valid = valid.type_as(imgs)\n",
        "\n",
        "            # adversarial loss is binary cross-entropy\n",
        "            g_loss = self.adversarial_loss(self.discriminator(self(z)), valid)\n",
        "            self.log(\"g_loss\", g_loss, prog_bar=True)\n",
        "            return g_loss\n",
        "\n",
        "        # train discriminator\n",
        "        if optimizer_idx == 1:\n",
        "            # Measure discriminator's ability to classify real from generated samples\n",
        "\n",
        "            # how well can it label as real?\n",
        "            valid = torch.ones(imgs.size(0), 1)\n",
        "            valid = valid.type_as(imgs)\n",
        "\n",
        "            real_loss = self.adversarial_loss(self.discriminator(imgs), valid)\n",
        "\n",
        "            # how well can it label as fake?\n",
        "            fake = torch.zeros(imgs.size(0), 1)\n",
        "            fake = fake.type_as(imgs)\n",
        "\n",
        "            fake_loss = self.adversarial_loss(self.discriminator(self(z).detach()), fake)\n",
        "\n",
        "            # discriminator loss is the average of these\n",
        "            d_loss = (real_loss + fake_loss) / 2\n",
        "            self.log(\"d_loss\", d_loss, prog_bar=True)\n",
        "            return d_loss\n",
        "\n",
        "    def configure_optimizers(self):\n",
        "        lr = self.hparams.lr\n",
        "        b1 = self.hparams.b1\n",
        "        b2 = self.hparams.b2\n",
        "\n",
        "        opt_g = torch.optim.Adam(self.generator.parameters(), lr=lr, betas=(b1, b2))\n",
        "        opt_d = torch.optim.Adam(self.discriminator.parameters(), lr=lr, betas=(b1, b2))\n",
        "        return [opt_g, opt_d], []\n",
        "\n",
        "    def on_validation_epoch_end(self):\n",
        "        z = self.validation_z.type_as(self.generator.model[0].weight)\n",
        "\n",
        "        # log sampled images\n",
        "        sample_imgs = self(z)\n",
        "        grid = torchvision.utils.make_grid(sample_imgs)\n",
        "        self.logger.experiment.add_image(\"generated_images\", grid, self.current_epoch)"
      ]
    },
    {
      "cell_type": "code",
      "execution_count": null,
      "id": "b378b0b3",
      "metadata": {
        "execution": {
          "iopub.execute_input": "2022-08-15T07:29:07.591988Z",
          "iopub.status.busy": "2022-08-15T07:29:07.591532Z",
          "iopub.status.idle": "2022-08-15T07:29:34.676966Z",
          "shell.execute_reply": "2022-08-15T07:29:34.676137Z"
        },
        "papermill": {
          "duration": 27.090649,
          "end_time": "2022-08-15T07:29:34.679047",
          "exception": false,
          "start_time": "2022-08-15T07:29:07.588398",
          "status": "completed"
        },
        "tags": [],
        "id": "b378b0b3",
        "outputId": "6478e4dd-6b99-456a-dddb-e810923c3c9d",
        "colab": {
          "referenced_widgets": [
            "23f98a84adfc4f98809df5df48b9bb9a",
            "a12b87673c494983866e3473862fe170",
            "917639fa7cea4ab293ac207a45c8a70e",
            "794dc7d023404afd9087da357d68db30",
            "f1d305df422e4b9e87575bcd1e6bcdaa"
          ]
        }
      },
      "outputs": [
        {
          "name": "stderr",
          "output_type": "stream",
          "text": [
            "GPU available: True (cuda), used: True\n"
          ]
        },
        {
          "name": "stderr",
          "output_type": "stream",
          "text": [
            "TPU available: False, using: 0 TPU cores\n"
          ]
        },
        {
          "name": "stderr",
          "output_type": "stream",
          "text": [
            "IPU available: False, using: 0 IPUs\n"
          ]
        },
        {
          "name": "stderr",
          "output_type": "stream",
          "text": [
            "HPU available: False, using: 0 HPUs\n"
          ]
        },
        {
          "name": "stdout",
          "output_type": "stream",
          "text": [
            "Downloading http://yann.lecun.com/exdb/mnist/train-images-idx3-ubyte.gz\n",
            "Downloading http://yann.lecun.com/exdb/mnist/train-images-idx3-ubyte.gz to /__w/1/s/.datasets/MNIST/raw/train-images-idx3-ubyte.gz\n"
          ]
        },
        {
          "name": "stderr",
          "output_type": "stream",
          "text": [
            "/home/AzDevOps_azpcontainer/.local/lib/python3.8/site-packages/pytorch_lightning/trainer/configuration_validator.py:115: UserWarning: You passed in a `val_dataloader` but have no `validation_step`. Skipping val loop.\n",
            "  rank_zero_warn(\"You passed in a `val_dataloader` but have no `validation_step`. Skipping val loop.\")\n"
          ]
        },
        {
          "data": {
            "application/vnd.jupyter.widget-view+json": {
              "model_id": "23f98a84adfc4f98809df5df48b9bb9a",
              "version_major": 2,
              "version_minor": 0
            },
            "text/plain": [
              "  0%|          | 0/9912422 [00:00<?, ?it/s]"
            ]
          },
          "metadata": {},
          "output_type": "display_data"
        },
        {
          "name": "stdout",
          "output_type": "stream",
          "text": [
            "Extracting /__w/1/s/.datasets/MNIST/raw/train-images-idx3-ubyte.gz to /__w/1/s/.datasets/MNIST/raw\n"
          ]
        },
        {
          "name": "stdout",
          "output_type": "stream",
          "text": [
            "\n",
            "Downloading http://yann.lecun.com/exdb/mnist/train-labels-idx1-ubyte.gz\n",
            "Downloading http://yann.lecun.com/exdb/mnist/train-labels-idx1-ubyte.gz to /__w/1/s/.datasets/MNIST/raw/train-labels-idx1-ubyte.gz\n"
          ]
        },
        {
          "data": {
            "application/vnd.jupyter.widget-view+json": {
              "model_id": "a12b87673c494983866e3473862fe170",
              "version_major": 2,
              "version_minor": 0
            },
            "text/plain": [
              "  0%|          | 0/28881 [00:00<?, ?it/s]"
            ]
          },
          "metadata": {},
          "output_type": "display_data"
        },
        {
          "name": "stdout",
          "output_type": "stream",
          "text": [
            "Extracting /__w/1/s/.datasets/MNIST/raw/train-labels-idx1-ubyte.gz to /__w/1/s/.datasets/MNIST/raw\n",
            "\n",
            "Downloading http://yann.lecun.com/exdb/mnist/t10k-images-idx3-ubyte.gz\n",
            "Downloading http://yann.lecun.com/exdb/mnist/t10k-images-idx3-ubyte.gz to /__w/1/s/.datasets/MNIST/raw/t10k-images-idx3-ubyte.gz\n"
          ]
        },
        {
          "data": {
            "application/vnd.jupyter.widget-view+json": {
              "model_id": "917639fa7cea4ab293ac207a45c8a70e",
              "version_major": 2,
              "version_minor": 0
            },
            "text/plain": [
              "  0%|          | 0/1648877 [00:00<?, ?it/s]"
            ]
          },
          "metadata": {},
          "output_type": "display_data"
        },
        {
          "name": "stdout",
          "output_type": "stream",
          "text": [
            "Extracting /__w/1/s/.datasets/MNIST/raw/t10k-images-idx3-ubyte.gz to /__w/1/s/.datasets/MNIST/raw\n",
            "\n",
            "Downloading http://yann.lecun.com/exdb/mnist/t10k-labels-idx1-ubyte.gz\n"
          ]
        },
        {
          "name": "stdout",
          "output_type": "stream",
          "text": [
            "Downloading http://yann.lecun.com/exdb/mnist/t10k-labels-idx1-ubyte.gz to /__w/1/s/.datasets/MNIST/raw/t10k-labels-idx1-ubyte.gz\n"
          ]
        },
        {
          "data": {
            "application/vnd.jupyter.widget-view+json": {
              "model_id": "794dc7d023404afd9087da357d68db30",
              "version_major": 2,
              "version_minor": 0
            },
            "text/plain": [
              "  0%|          | 0/4542 [00:00<?, ?it/s]"
            ]
          },
          "metadata": {},
          "output_type": "display_data"
        },
        {
          "name": "stderr",
          "output_type": "stream",
          "text": [
            "Missing logger folder: /__w/1/s/lightning_logs\n"
          ]
        },
        {
          "name": "stdout",
          "output_type": "stream",
          "text": [
            "Extracting /__w/1/s/.datasets/MNIST/raw/t10k-labels-idx1-ubyte.gz to /__w/1/s/.datasets/MNIST/raw\n",
            "\n"
          ]
        },
        {
          "name": "stderr",
          "output_type": "stream",
          "text": [
            "LOCAL_RANK: 0 - CUDA_VISIBLE_DEVICES: [0,1]\n"
          ]
        },
        {
          "name": "stderr",
          "output_type": "stream",
          "text": [
            "\n",
            "  | Name          | Type          | Params | In sizes | Out sizes     \n",
            "----------------------------------------------------------------------------\n",
            "0 | generator     | Generator     | 1.5 M  | [2, 100] | [2, 1, 28, 28]\n",
            "1 | discriminator | Discriminator | 533 K  | ?        | ?             \n",
            "----------------------------------------------------------------------------\n",
            "2.0 M     Trainable params\n",
            "0         Non-trainable params\n",
            "2.0 M     Total params\n",
            "8.174     Total estimated model params size (MB)\n"
          ]
        },
        {
          "data": {
            "application/vnd.jupyter.widget-view+json": {
              "model_id": "f1d305df422e4b9e87575bcd1e6bcdaa",
              "version_major": 2,
              "version_minor": 0
            },
            "text/plain": [
              "Training: 0it [00:00, ?it/s]"
            ]
          },
          "metadata": {},
          "output_type": "display_data"
        },
        {
          "name": "stderr",
          "output_type": "stream",
          "text": [
            "`Trainer.fit` stopped: `max_epochs=5` reached.\n"
          ]
        }
      ],
      "source": [
        "dm = MNISTDataModule()\n",
        "model = GAN(*dm.dims)\n",
        "trainer = Trainer(\n",
        "    accelerator=\"auto\",\n",
        "    devices=1 if torch.cuda.is_available() else None,  # limiting got iPython runs\n",
        "    max_epochs=5,\n",
        "    callbacks=[TQDMProgressBar(refresh_rate=20)],\n",
        ")\n",
        "trainer.fit(model, dm)"
      ]
    },
    {
      "cell_type": "code",
      "execution_count": null,
      "id": "cab8b962",
      "metadata": {
        "execution": {
          "iopub.execute_input": "2022-08-15T07:29:34.688931Z",
          "iopub.status.busy": "2022-08-15T07:29:34.688566Z",
          "iopub.status.idle": "2022-08-15T07:29:36.267196Z",
          "shell.execute_reply": "2022-08-15T07:29:36.266291Z"
        },
        "papermill": {
          "duration": 1.585179,
          "end_time": "2022-08-15T07:29:36.268808",
          "exception": false,
          "start_time": "2022-08-15T07:29:34.683629",
          "status": "completed"
        },
        "tags": [],
        "id": "cab8b962",
        "outputId": "af026461-f496-4fcf-d2bf-e1a50852777a"
      },
      "outputs": [
        {
          "data": {
            "text/html": [
              "\n",
              "      <iframe id=\"tensorboard-frame-8f22ecc69ab772f9\" width=\"100%\" height=\"800\" frameborder=\"0\">\n",
              "      </iframe>\n",
              "      <script>\n",
              "        (function() {\n",
              "          const frame = document.getElementById(\"tensorboard-frame-8f22ecc69ab772f9\");\n",
              "          const url = new URL(\"/\", window.location);\n",
              "          const port = 6006;\n",
              "          if (port) {\n",
              "            url.port = port;\n",
              "          }\n",
              "          frame.src = url;\n",
              "        })();\n",
              "      </script>\n",
              "    "
            ],
            "text/plain": [
              "<IPython.core.display.HTML object>"
            ]
          },
          "metadata": {},
          "output_type": "display_data"
        }
      ],
      "source": [
        "# Start tensorboard.\n",
        "%load_ext tensorboard\n",
        "%tensorboard --logdir lightning_logs/"
      ]
    },
    {
      "cell_type": "markdown",
      "id": "b81fdc4b",
      "metadata": {
        "papermill": {
          "duration": 0.00373,
          "end_time": "2022-08-15T07:29:36.276741",
          "exception": false,
          "start_time": "2022-08-15T07:29:36.273011",
          "status": "completed"
        },
        "tags": [],
        "id": "b81fdc4b"
      },
      "source": [
        "## Congratulations - Time to Join the Community!\n",
        "\n",
        "Congratulations on completing this notebook tutorial! If you enjoyed this and would like to join the Lightning\n",
        "movement, you can do so in the following ways!\n",
        "\n",
        "### Star [Lightning](https://github.com/PyTorchLightning/pytorch-lightning) on GitHub\n",
        "The easiest way to help our community is just by starring the GitHub repos! This helps raise awareness of the cool\n",
        "tools we're building.\n",
        "\n",
        "### Join our [Slack](https://www.pytorchlightning.ai/community)!\n",
        "The best way to keep up to date on the latest advancements is to join our community! Make sure to introduce yourself\n",
        "and share your interests in `#general` channel\n",
        "\n",
        "\n",
        "### Contributions !\n",
        "The best way to contribute to our community is to become a code contributor! At any time you can go to\n",
        "[Lightning](https://github.com/PyTorchLightning/pytorch-lightning) or [Bolt](https://github.com/PyTorchLightning/lightning-bolts)\n",
        "GitHub Issues page and filter for \"good first issue\".\n",
        "\n",
        "* [Lightning good first issue](https://github.com/PyTorchLightning/pytorch-lightning/issues?q=is%3Aopen+is%3Aissue+label%3A%22good+first+issue%22)\n",
        "* [Bolt good first issue](https://github.com/PyTorchLightning/lightning-bolts/issues?q=is%3Aopen+is%3Aissue+label%3A%22good+first+issue%22)\n",
        "* You can also contribute your own notebooks with useful examples !\n",
        "\n",
        "### Great thanks from the entire Pytorch Lightning Team for your interest !\n",
        "\n",
        "[![Pytorch Lightning](data:image/png;base64,NDA0OiBOb3QgRm91bmQ=){height=\"60px\" width=\"240px\"}](https://pytorchlightning.ai)"
      ]
    }
  ],
  "metadata": {
    "jupytext": {
      "cell_metadata_filter": "colab,id,colab_type,-all",
      "formats": "ipynb,py:percent",
      "main_language": "python"
    },
    "language_info": {
      "codemirror_mode": {
        "name": "ipython",
        "version": 3
      },
      "file_extension": ".py",
      "mimetype": "text/x-python",
      "name": "python",
      "nbconvert_exporter": "python",
      "pygments_lexer": "ipython3",
      "version": "3.8.10"
    },
    "papermill": {
      "default_parameters": {},
      "duration": 40.654121,
      "end_time": "2022-08-15T07:29:39.199948",
      "environment_variables": {},
      "exception": null,
      "input_path": "lightning_examples/basic-gan/gan.ipynb",
      "output_path": ".notebooks/lightning_examples/basic-gan.ipynb",
      "parameters": {},
      "start_time": "2022-08-15T07:28:58.545827",
      "version": "2.4.0"
    },
    "widgets": {
      "application/vnd.jupyter.widget-state+json": {}
    },
    "colab": {
      "provenance": []
    }
  },
  "nbformat": 4,
  "nbformat_minor": 5
}